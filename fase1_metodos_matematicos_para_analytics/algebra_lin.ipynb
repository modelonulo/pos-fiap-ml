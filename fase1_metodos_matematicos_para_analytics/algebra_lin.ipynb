{
 "cells": [
  {
   "cell_type": "code",
   "execution_count": 5,
   "metadata": {},
   "outputs": [],
   "source": [
    "import numpy as np\n",
    "import pandas as pd"
   ]
  },
  {
   "cell_type": "code",
   "execution_count": 4,
   "metadata": {},
   "outputs": [
    {
     "name": "stdout",
     "output_type": "stream",
     "text": [
      "2\n",
      "[1 2 3]\n",
      "[[1]\n",
      " [2]\n",
      " [3]]\n",
      "[[1 2 3]\n",
      " [1 2 3]\n",
      " [1 2 3]]\n"
     ]
    }
   ],
   "source": [
    "# escalar, vetor e matriz\n",
    "\n",
    "#escalar - número (tensor de ordem 0)\n",
    "\n",
    "x = 2 #escalar \n",
    "print(x)\n",
    "\n",
    "x2 = np.array([1, 2, 3]) #vetor com 3 elementos escalares\n",
    "print(x2)\n",
    "\n",
    "x3 = np.array([[1], [2], [3]]) #matriz com 3 elementos vetores com elementos escalares\n",
    "print(x3)\n",
    "\n",
    "x4 = np.array([[1,2,3], [1,2,3], [1,2,3]]) #matriz tradicional quadrada\n",
    "print(x4)\n"
   ]
  },
  {
   "cell_type": "code",
   "execution_count": 18,
   "metadata": {},
   "outputs": [
    {
     "name": "stdout",
     "output_type": "stream",
     "text": [
      "<class 'pandas.core.frame.DataFrame'>\n",
      "   coluna1\n",
      "0        1\n",
      "1        2\n",
      "2        3\n",
      "3        4\n",
      "4        5\n",
      "<class 'pandas.core.frame.DataFrame'>\n",
      "Mas se dermos o type na COLUNA de df2, veremos que é diferente do tipop do df e df2: <class 'pandas.core.series.Series'>\n",
      "   coluna1  coluna2\n",
      "0        1        1\n",
      "1        2        2\n",
      "2        3        3\n",
      "3        4        4\n",
      "4        5        5\n"
     ]
    }
   ],
   "source": [
    "#normalmente usamos lista para muittas coisas, porém ele sugere usarmos mais dicionário \n",
    "\n",
    "\n",
    "\n",
    "lista = [1, 2, 3, 4, 5]\n",
    "\n",
    "#df = pd.DataFrame(lista)\n",
    "#df\n",
    "\n",
    "df = pd.DataFrame({'coluna1': lista})\n",
    "df\n",
    "print(type(df))\n",
    "\n",
    "\n",
    "#o que é o df? 'class 'pandas.core.frame.DataFrame', o df é uma tabela que é um df colunar que uma matriz, com vetores colunar \n",
    "#pandas series == vetor \n",
    "#dataframe = matriz\n",
    "# LOGO, \n",
    "# AINDA PODERIAMOS criar esse df com:\n",
    "\n",
    "array = np.array([1, 2, 3, 4, 5])\n",
    "df = pd.DataFrame({'coluna1': array})\n",
    "print(df)\n",
    "\n",
    "# O pandas chama o vetor de SERIES\n",
    "\n",
    "#OBSERVACAO para o type da coluna do df2, veremos que é um panda core SERIRES/SERIES, diferernte de frame/frame como antes.\n",
    "#Porque, sabemos que a matriz é um conjunto de elementos vetores, então o df é uma matriz e cada coluna é um vetor E VETOR PRO PANDAS CHAMA SERIES.\n",
    "df2 = pd.DataFrame({'coluna1': lista, 'coluna2': lista})\n",
    "print(type(df2))\n",
    "print(f'Mas se dermos o type na COLUNA de df2, veremos que é diferente do tipop do df e df2: {type(df2.coluna2)}')\n",
    "\n",
    "print(df2)"
   ]
  },
  {
   "cell_type": "code",
   "execution_count": 20,
   "metadata": {},
   "outputs": [
    {
     "name": "stdout",
     "output_type": "stream",
     "text": [
      "[1]\n"
     ]
    }
   ],
   "source": [
    "# Para acessar os elementos:\n",
    "\n",
    "# Exemplo em listas: \n",
    "print(lista[:1])\n",
    "\n",
    "#No exemplo abaixo, "
   ]
  },
  {
   "cell_type": "code",
   "execution_count": 21,
   "metadata": {},
   "outputs": [
    {
     "name": "stdout",
     "output_type": "stream",
     "text": [
      "0.6666666666666666\n"
     ]
    }
   ],
   "source": [
    "#Video 5 \n",
    "# Operacoes com vetores.  SOMA + SUBTRACAO\n",
    "\n",
    "#Conseguimos fazer adicao, subtracao, log de vetores como conseguimos fazer com escalares? \n",
    "#Até o momento entendo a estrutura desses objetos. Mas vamos aprender as propriedades.\n",
    "\n",
    "print(2/3)\n",
    "# As propriedades que cercam os escalares devem ser preservadas. Pensemos que um escalar é um ponto, que nao posui dimensao. \n",
    "# Quando pensamos abrangentemente qualquer conceito matemático ele tem propriedades e axiomas (regras)\n",
    "# se um escalar tem propriedades, elas devem ser extendidas a sua evolução, mas cada um com sua regra específica. Podemos somar um número, mas somaremos uma matriz de uma forma difirente. \n",
    "\n",
    " "
   ]
  },
  {
   "cell_type": "code",
   "execution_count": 23,
   "metadata": {},
   "outputs": [
    {
     "name": "stdout",
     "output_type": "stream",
     "text": [
      "[1 2 3]\n",
      "\n",
      "[[1]\n",
      " [2]\n",
      " [3]]\n",
      "\n",
      "[[2 3 4]\n",
      " [3 4 5]\n",
      " [4 5 6]]\n"
     ]
    }
   ],
   "source": [
    "\n",
    "\n",
    "print(x2)\n",
    "print()\n",
    "print(x3)\n",
    "print()\n",
    "\n",
    "# Fez combinação linear = é um somatório de elementos multiplicados entre si. \n",
    "# OBS = Como o vetor X2 e a matriz x3 não tem a mesma estrutura (um contem 3 escalares linha e a outra é uma matriz coluna, \n",
    "# a soma foi feita através de uma combinação linear\n",
    "\n",
    "# Fez uma distributiva\n",
    "# [1+1 = 2], [1+2 = 3], [1+3=4]\n",
    "# [2+1 = 3], [2+2 = 4], [2+3= 5\n",
    "# [3+1 = 4], [3+2 = 5], [3+3 = 6]\n",
    "print(x2+x3)\n",
    "\n",
    "# JÁ quando somamos duas matrizes 3x3 dobramos os valores, pois ele entende que a coluna 1 da primeira soma com a col 1 da segunda matriz e assim por diante"
   ]
  },
  {
   "cell_type": "code",
   "execution_count": 26,
   "metadata": {},
   "outputs": [
    {
     "data": {
      "text/plain": [
       "array([[1, 2, 3],\n",
       "       [1, 2, 3],\n",
       "       [1, 2, 3]])"
      ]
     },
     "execution_count": 26,
     "metadata": {},
     "output_type": "execute_result"
    }
   ],
   "source": [
    "x4"
   ]
  },
  {
   "cell_type": "code",
   "execution_count": 27,
   "metadata": {},
   "outputs": [
    {
     "name": "stdout",
     "output_type": "stream",
     "text": [
      "[[1 2 3]\n",
      " [1 2 3]\n",
      " [1 2 3]]\n",
      "[[1]\n",
      " [2]]\n"
     ]
    },
    {
     "ename": "ValueError",
     "evalue": "operands could not be broadcast together with shapes (2,1) (3,3) ",
     "output_type": "error",
     "traceback": [
      "\u001b[0;31m---------------------------------------------------------------------------\u001b[0m",
      "\u001b[0;31mValueError\u001b[0m                                Traceback (most recent call last)",
      "Cell \u001b[0;32mIn[27], line 6\u001b[0m\n\u001b[1;32m      4\u001b[0m x5 \u001b[39m=\u001b[39m np\u001b[39m.\u001b[39marray([[\u001b[39m1\u001b[39m], [\u001b[39m2\u001b[39m]])\n\u001b[1;32m      5\u001b[0m \u001b[39mprint\u001b[39m(x5)\n\u001b[0;32m----> 6\u001b[0m x5\u001b[39m+\u001b[39;49mx4\n",
      "\u001b[0;31mValueError\u001b[0m: operands could not be broadcast together with shapes (2,1) (3,3) "
     ]
    }
   ],
   "source": [
    "# PENDENTE - PESQUISAR\n",
    "\n",
    "# Operadores nao podem ser agrupados, pois um tem dimensao (2,1) e outro (3,3)\n",
    "\n",
    "# Nesse caso temos um erro, pois aqui não temos a mesma quantidade de linhas para os dois arrays. A natureza se preserva quando temos o mesmo numero de linhas para colunas e etc\n",
    "\n",
    "# A combinação linear entra a dica? o que vale para soma, vale ara - , combin linear pode ser subtracao. \n",
    "\n",
    "# Todo somatório pode se tornar um \"somatório negativo quando multiplicamos por -1\"\n",
    "\n",
    "print(x4)\n",
    "\n",
    "x5 = np.array([[1], [2]])\n",
    "print(x5)\n",
    "x5+x4"
   ]
  },
  {
   "cell_type": "code",
   "execution_count": 28,
   "metadata": {},
   "outputs": [
    {
     "ename": "ValueError",
     "evalue": "shapes (3,1) and (3,3) not aligned: 1 (dim 1) != 3 (dim 0)",
     "output_type": "error",
     "traceback": [
      "\u001b[0;31m---------------------------------------------------------------------------\u001b[0m",
      "\u001b[0;31mValueError\u001b[0m                                Traceback (most recent call last)",
      "Cell \u001b[0;32mIn[28], line 8\u001b[0m\n\u001b[1;32m      1\u001b[0m \u001b[39m# MULTIPLICACAO \u001b[39;00m\n\u001b[1;32m      2\u001b[0m \n\u001b[1;32m      3\u001b[0m \u001b[39m#arr1 (x,y) / arr2 (z,w) --> y = z só podemos multiplicar quando temos o numero de colunas em 1 é == linhas em 2\u001b[39;00m\n\u001b[1;32m      4\u001b[0m \u001b[39m# == arr3 (x, w)\u001b[39;00m\n\u001b[1;32m      5\u001b[0m \n\u001b[1;32m      6\u001b[0m \u001b[39m#podemos usar:\u001b[39;00m\n\u001b[0;32m----> 8\u001b[0m np\u001b[39m.\u001b[39;49mdot(x3, x4)\n",
      "\u001b[0;31mValueError\u001b[0m: shapes (3,1) and (3,3) not aligned: 1 (dim 1) != 3 (dim 0)"
     ]
    }
   ],
   "source": [
    "# MULTIPLICACAO \n",
    "\n",
    "#arr1 (x,y) / arr2 (z,w) --> y = z só podemos multiplicar quando temos o numero de colunas em 1 é == linhas em 2\n",
    "# == arr3 (x, w)\n",
    "\n",
    "#podemos usar:\n",
    "\n",
    "np.dot(x3, x4)\n",
    "# Esse erro demonstra isso."
   ]
  },
  {
   "cell_type": "code",
   "execution_count": 34,
   "metadata": {},
   "outputs": [
    {
     "name": "stdout",
     "output_type": "stream",
     "text": [
      "matriz x4 com : [[1 2 3]\n",
      " [1 2 3]\n",
      " [1 2 3]]\n",
      "\n",
      "matriz x3: [[1]\n",
      " [2]\n",
      " [3]]\n",
      "\n",
      "[[14]\n",
      " [14]\n",
      " [14]]\n"
     ]
    }
   ],
   "source": [
    "# Mas e se trocarmos a ordem e colocar x4, x3\n",
    "print(f'matriz x4 com : {x4}')\n",
    "print()\n",
    "print(f'matriz x3: {x3}', sep='\\n')\n",
    "print()\n",
    "\n",
    "print(np.dot(x4, x3))\n",
    "\n",
    "# Outra forma de multiplicar seria x4@x3\n",
    "\n",
    "# Não temos o erro pois dessa vez o numero de colunas é igual ao numero de linhas \n",
    "\n",
    "# A ORDEM DOS FATORES ALTERA O PRODUTO DE MATRIZES, difente dos escalares. Dessa forma, :\n",
    "\n"
   ]
  },
  {
   "cell_type": "code",
   "execution_count": 35,
   "metadata": {},
   "outputs": [
    {
     "ename": "ValueError",
     "evalue": "operands could not be broadcast together with shapes (3,1) (2,1) ",
     "output_type": "error",
     "traceback": [
      "\u001b[0;31m---------------------------------------------------------------------------\u001b[0m",
      "\u001b[0;31mValueError\u001b[0m                                Traceback (most recent call last)",
      "Cell \u001b[0;32mIn[35], line 6\u001b[0m\n\u001b[1;32m      1\u001b[0m \u001b[39m# DIVISAO \u001b[39;00m\n\u001b[1;32m      2\u001b[0m \n\u001b[1;32m      3\u001b[0m \u001b[39m# Pensando em que para acharmos o x na equacao abaixo isolamos o x. \u001b[39;00m\n\u001b[1;32m      4\u001b[0m \u001b[39m# 2.x = 4\u001b[39;00m\n\u001b[0;32m----> 6\u001b[0m x3\u001b[39m/\u001b[39;49mx5\n\u001b[1;32m      8\u001b[0m \u001b[39m# Pensando na divisao, considere:\u001b[39;00m\n\u001b[1;32m      9\u001b[0m \u001b[39m# A . X = Y --> Para obtermos o x, poreríamos isalar o X? \u001b[39;00m\n\u001b[1;32m     10\u001b[0m \u001b[39m# Sim. X teria que ser uma matriz - é um vetor solucao com varios n;umeros\u001b[39;00m\n",
      "\u001b[0;31mValueError\u001b[0m: operands could not be broadcast together with shapes (3,1) (2,1) "
     ]
    }
   ],
   "source": [
    "# DIVISAO E EQUACAO FUNDAMENTAL DA ALGEBRA LINEAR \n",
    "\n",
    "# Pensando em que para acharmos o x na equacao abaixo isolamos o x. \n",
    "# 2.x = 4\n",
    "\n",
    "x3/x5 # ERRO POIS NAO TEM A MESMA DIMENSAO\n",
    "\n",
    "# MAS Pensando na divisao, considere:\n",
    "\n",
    "\n",
    "# A . X = Y --> Para obtermos o x, poreríamos isalar o X? (# A . B != B . A (esse ponto não é a multiplicacao tradicional que vem com asterisco. Esse np.dot é produto interno de matrizes - um vetor x vetor = vetor ))\n",
    "# Sim. X teria que ser uma matriz - é um vetor solucao com varios n;umeros\n",
    "\n",
    "# ISSO AQUI É O CORACAO DA ALGEBRA. O motivo pela qual a algebra linear existe é essa equação\n",
    "# Conhcemos o arcabouço teorico de algebra linear por causa dessa equação. Isso dará base para resolver problemas de ml \n",
    "# Isso deu base para resolver problema de equações que evoluiram no tempo - sistema chamado de processos markovianos ou cadeias de markov (analises de recorrencia como cadeias de markov e método dos mínimos quafrados)\n",
    "\n",
    "# NOME - EQUACAO FUNDAMENTAL DA ALGEBRA LINEAR\n"
   ]
  },
  {
   "cell_type": "code",
   "execution_count": null,
   "metadata": {},
   "outputs": [],
   "source": [
    "# A.X = Y ----> NÃO QUER DIZER QUE PARA QUE POSSAMOS ENCONTRAR O VETOR X, EU CONSIGA DIVIDIR Y POR A. \n",
    "\n",
    "# e aqui entra outro conceito, relacionado a matrizes especiais!!!\n",
    "\n",
    "# pense:\n",
    "# Na propriedade dos escalares conseguimos trocar o produto sem alterar o resultado: \n",
    "#1*0 = 0\n",
    "#0*1 = 0 \n",
    "\n",
    "# Já se fizermos 1/0, teremos um erro. \n",
    "# Dessa forma, o 0 para os escalares, NA SOMA E NA SUBTRAÇÃO, é o que chamamos de elemento neutro, pois nao afeta o resultado. \n",
    "# No caso da multiplicação e divisão o ELEMENTO NEUTRO É O 1\n",
    "\n"
   ]
  },
  {
   "cell_type": "code",
   "execution_count": null,
   "metadata": {},
   "outputs": [],
   "source": []
  }
 ],
 "metadata": {
  "kernelspec": {
   "display_name": "Python 3",
   "language": "python",
   "name": "python3"
  },
  "language_info": {
   "codemirror_mode": {
    "name": "ipython",
    "version": 3
   },
   "file_extension": ".py",
   "mimetype": "text/x-python",
   "name": "python",
   "nbconvert_exporter": "python",
   "pygments_lexer": "ipython3",
   "version": "3.10.12"
  },
  "orig_nbformat": 4
 },
 "nbformat": 4,
 "nbformat_minor": 2
}
