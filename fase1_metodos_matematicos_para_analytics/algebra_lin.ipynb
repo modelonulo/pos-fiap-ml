{
 "cells": [
  {
   "cell_type": "code",
   "execution_count": 2,
   "metadata": {},
   "outputs": [],
   "source": [
    "import numpy as np\n",
    "import pandas as pd"
   ]
  },
  {
   "cell_type": "code",
   "execution_count": 4,
   "metadata": {},
   "outputs": [
    {
     "name": "stdout",
     "output_type": "stream",
     "text": [
      "2\n",
      "[1 2 3]\n",
      "[[1]\n",
      " [2]\n",
      " [3]]\n",
      "[[1 2 3]\n",
      " [1 2 3]\n",
      " [1 2 3]]\n"
     ]
    }
   ],
   "source": [
    "# escalar, vetor e matriz\n",
    "\n",
    "#escalar - número (tensor de ordem 0)\n",
    "\n",
    "x = 2 #escalar \n",
    "print(x)\n",
    "\n",
    "x2 = np.array([1, 2, 3]) #vetor com 3 elementos escalares\n",
    "print(x2)\n",
    "\n",
    "x3 = np.array([[1], [2], [3]]) #matriz com 3 elementos vetores com elementos escalares\n",
    "print(x3)\n",
    "\n",
    "x4 = np.array([[1,2,3], [1,2,3], [1,2,3]]) #matriz tradicional quadrada\n",
    "print(x4)\n"
   ]
  },
  {
   "cell_type": "code",
   "execution_count": 18,
   "metadata": {},
   "outputs": [
    {
     "name": "stdout",
     "output_type": "stream",
     "text": [
      "<class 'pandas.core.frame.DataFrame'>\n",
      "   coluna1\n",
      "0        1\n",
      "1        2\n",
      "2        3\n",
      "3        4\n",
      "4        5\n",
      "<class 'pandas.core.frame.DataFrame'>\n",
      "Mas se dermos o type na COLUNA de df2, veremos que é diferente do tipop do df e df2: <class 'pandas.core.series.Series'>\n",
      "   coluna1  coluna2\n",
      "0        1        1\n",
      "1        2        2\n",
      "2        3        3\n",
      "3        4        4\n",
      "4        5        5\n"
     ]
    }
   ],
   "source": [
    "#normalmente usamos lista para muittas coisas, porém ele sugere usarmos mais dicionário \n",
    "\n",
    "\n",
    "\n",
    "lista = [1, 2, 3, 4, 5]\n",
    "\n",
    "#df = pd.DataFrame(lista)\n",
    "#df\n",
    "\n",
    "df = pd.DataFrame({'coluna1': lista})\n",
    "df\n",
    "print(type(df))\n",
    "\n",
    "\n",
    "#o que é o df? 'class 'pandas.core.frame.DataFrame', o df é uma tabela que é um df colunar que uma matriz, com vetores colunar \n",
    "#pandas series == vetor \n",
    "#dataframe = matriz\n",
    "# LOGO, \n",
    "# AINDA PODERIAMOS criar esse df com:\n",
    "\n",
    "array = np.array([1, 2, 3, 4, 5])\n",
    "df = pd.DataFrame({'coluna1': array})\n",
    "print(df)\n",
    "\n",
    "# O pandas chama o vetor de SERIES\n",
    "\n",
    "#OBSERVACAO para o type da coluna do df2, veremos que é um panda core SERIRES/SERIES, diferernte de frame/frame como antes.\n",
    "#Porque, sabemos que a matriz é um conjunto de elementos vetores, então o df é uma matriz e cada coluna é um vetor E VETOR PRO PANDAS CHAMA SERIES.\n",
    "df2 = pd.DataFrame({'coluna1': lista, 'coluna2': lista})\n",
    "print(type(df2))\n",
    "print(f'Mas se dermos o type na COLUNA de df2, veremos que é diferente do tipop do df e df2: {type(df2.coluna2)}')\n",
    "\n",
    "print(df2)"
   ]
  },
  {
   "cell_type": "code",
   "execution_count": 20,
   "metadata": {},
   "outputs": [
    {
     "name": "stdout",
     "output_type": "stream",
     "text": [
      "[1]\n"
     ]
    }
   ],
   "source": [
    "# Para acessar os elementos:\n",
    "\n",
    "# Exemplo em listas: \n",
    "print(lista[:1])\n",
    "\n",
    "#No exemplo abaixo, "
   ]
  },
  {
   "cell_type": "code",
   "execution_count": 21,
   "metadata": {},
   "outputs": [
    {
     "name": "stdout",
     "output_type": "stream",
     "text": [
      "0.6666666666666666\n"
     ]
    }
   ],
   "source": [
    "#Video 5 \n",
    "# Operacoes com vetores.  SOMA + SUBTRACAO\n",
    "\n",
    "#Conseguimos fazer adicao, subtracao, log de vetores como conseguimos fazer com escalares? \n",
    "#Até o momento entendo a estrutura desses objetos. Mas vamos aprender as propriedades.\n",
    "\n",
    "print(2/3)\n",
    "# As propriedades que cercam os escalares devem ser preservadas. Pensemos que um escalar é um ponto, que nao posui dimensao. \n",
    "# Quando pensamos abrangentemente qualquer conceito matemático ele tem propriedades e axiomas (regras)\n",
    "# se um escalar tem propriedades, elas devem ser extendidas a sua evolução, mas cada um com sua regra específica. Podemos somar um número, mas somaremos uma matriz de uma forma difirente. \n",
    "\n",
    " "
   ]
  },
  {
   "cell_type": "code",
   "execution_count": 23,
   "metadata": {},
   "outputs": [
    {
     "name": "stdout",
     "output_type": "stream",
     "text": [
      "[1 2 3]\n",
      "\n",
      "[[1]\n",
      " [2]\n",
      " [3]]\n",
      "\n",
      "[[2 3 4]\n",
      " [3 4 5]\n",
      " [4 5 6]]\n"
     ]
    }
   ],
   "source": [
    "\n",
    "\n",
    "print(x2)\n",
    "print()\n",
    "print(x3)\n",
    "print()\n",
    "\n",
    "# Fez combinação linear = é um somatório de elementos multiplicados entre si. \n",
    "# OBS = Como o vetor X2 e a matriz x3 não tem a mesma estrutura (um contem 3 escalares linha e a outra é uma matriz coluna, \n",
    "# a soma foi feita através de uma combinação linear\n",
    "\n",
    "# Fez uma distributiva\n",
    "# [1+1 = 2], [1+2 = 3], [1+3=4]\n",
    "# [2+1 = 3], [2+2 = 4], [2+3= 5\n",
    "# [3+1 = 4], [3+2 = 5], [3+3 = 6]\n",
    "print(x2+x3)\n",
    "\n",
    "# JÁ quando somamos duas matrizes 3x3 dobramos os valores, pois ele entende que a coluna 1 da primeira soma com a col 1 da segunda matriz e assim por diante"
   ]
  },
  {
   "cell_type": "code",
   "execution_count": 26,
   "metadata": {},
   "outputs": [
    {
     "data": {
      "text/plain": [
       "array([[1, 2, 3],\n",
       "       [1, 2, 3],\n",
       "       [1, 2, 3]])"
      ]
     },
     "execution_count": 26,
     "metadata": {},
     "output_type": "execute_result"
    }
   ],
   "source": [
    "x4"
   ]
  },
  {
   "cell_type": "code",
   "execution_count": 27,
   "metadata": {},
   "outputs": [
    {
     "name": "stdout",
     "output_type": "stream",
     "text": [
      "[[1 2 3]\n",
      " [1 2 3]\n",
      " [1 2 3]]\n",
      "[[1]\n",
      " [2]]\n"
     ]
    },
    {
     "ename": "ValueError",
     "evalue": "operands could not be broadcast together with shapes (2,1) (3,3) ",
     "output_type": "error",
     "traceback": [
      "\u001b[0;31m---------------------------------------------------------------------------\u001b[0m",
      "\u001b[0;31mValueError\u001b[0m                                Traceback (most recent call last)",
      "Cell \u001b[0;32mIn[27], line 6\u001b[0m\n\u001b[1;32m      4\u001b[0m x5 \u001b[39m=\u001b[39m np\u001b[39m.\u001b[39marray([[\u001b[39m1\u001b[39m], [\u001b[39m2\u001b[39m]])\n\u001b[1;32m      5\u001b[0m \u001b[39mprint\u001b[39m(x5)\n\u001b[0;32m----> 6\u001b[0m x5\u001b[39m+\u001b[39;49mx4\n",
      "\u001b[0;31mValueError\u001b[0m: operands could not be broadcast together with shapes (2,1) (3,3) "
     ]
    }
   ],
   "source": [
    "# PENDENTE - PESQUISAR\n",
    "\n",
    "# Operadores nao podem ser agrupados, pois um tem dimensao (2,1) e outro (3,3)\n",
    "\n",
    "# Nesse caso temos um erro, pois aqui não temos a mesma quantidade de linhas para os dois arrays. A natureza se preserva quando temos o mesmo numero de linhas para colunas e etc\n",
    "\n",
    "# A combinação linear entra a dica? o que vale para soma, vale ara - , combin linear pode ser subtracao. \n",
    "\n",
    "# Todo somatório pode se tornar um \"somatório negativo quando multiplicamos por -1\"\n",
    "\n",
    "print(x4)\n",
    "\n",
    "x5 = np.array([[1], [2]])\n",
    "print(x5)\n",
    "x5+x4"
   ]
  },
  {
   "cell_type": "code",
   "execution_count": 28,
   "metadata": {},
   "outputs": [
    {
     "ename": "ValueError",
     "evalue": "shapes (3,1) and (3,3) not aligned: 1 (dim 1) != 3 (dim 0)",
     "output_type": "error",
     "traceback": [
      "\u001b[0;31m---------------------------------------------------------------------------\u001b[0m",
      "\u001b[0;31mValueError\u001b[0m                                Traceback (most recent call last)",
      "Cell \u001b[0;32mIn[28], line 8\u001b[0m\n\u001b[1;32m      1\u001b[0m \u001b[39m# MULTIPLICACAO \u001b[39;00m\n\u001b[1;32m      2\u001b[0m \n\u001b[1;32m      3\u001b[0m \u001b[39m#arr1 (x,y) / arr2 (z,w) --> y = z só podemos multiplicar quando temos o numero de colunas em 1 é == linhas em 2\u001b[39;00m\n\u001b[1;32m      4\u001b[0m \u001b[39m# == arr3 (x, w)\u001b[39;00m\n\u001b[1;32m      5\u001b[0m \n\u001b[1;32m      6\u001b[0m \u001b[39m#podemos usar:\u001b[39;00m\n\u001b[0;32m----> 8\u001b[0m np\u001b[39m.\u001b[39;49mdot(x3, x4)\n",
      "\u001b[0;31mValueError\u001b[0m: shapes (3,1) and (3,3) not aligned: 1 (dim 1) != 3 (dim 0)"
     ]
    }
   ],
   "source": [
    "# MULTIPLICACAO \n",
    "\n",
    "#arr1 (x,y) / arr2 (z,w) --> y = z só podemos multiplicar quando temos o numero de colunas em 1 é == linhas em 2\n",
    "# == arr3 (x, w)\n",
    "\n",
    "#podemos usar:\n",
    "\n",
    "np.dot(x3, x4)\n",
    "# Esse erro demonstra isso."
   ]
  },
  {
   "cell_type": "code",
   "execution_count": 34,
   "metadata": {},
   "outputs": [
    {
     "name": "stdout",
     "output_type": "stream",
     "text": [
      "matriz x4 com : [[1 2 3]\n",
      " [1 2 3]\n",
      " [1 2 3]]\n",
      "\n",
      "matriz x3: [[1]\n",
      " [2]\n",
      " [3]]\n",
      "\n",
      "[[14]\n",
      " [14]\n",
      " [14]]\n"
     ]
    }
   ],
   "source": [
    "# Mas e se trocarmos a ordem e colocar x4, x3\n",
    "print(f'matriz x4 com : {x4}')\n",
    "print()\n",
    "print(f'matriz x3: {x3}', sep='\\n')\n",
    "print()\n",
    "\n",
    "print(np.dot(x4, x3))\n",
    "\n",
    "# Outra forma de multiplicar seria x4@x3\n",
    "\n",
    "# Não temos o erro pois dessa vez o numero de colunas é igual ao numero de linhas \n",
    "\n",
    "# A ORDEM DOS FATORES ALTERA O PRODUTO DE MATRIZES, difente dos escalares. Dessa forma, :\n",
    "\n"
   ]
  },
  {
   "cell_type": "code",
   "execution_count": 35,
   "metadata": {},
   "outputs": [
    {
     "ename": "ValueError",
     "evalue": "operands could not be broadcast together with shapes (3,1) (2,1) ",
     "output_type": "error",
     "traceback": [
      "\u001b[0;31m---------------------------------------------------------------------------\u001b[0m",
      "\u001b[0;31mValueError\u001b[0m                                Traceback (most recent call last)",
      "Cell \u001b[0;32mIn[35], line 6\u001b[0m\n\u001b[1;32m      1\u001b[0m \u001b[39m# DIVISAO \u001b[39;00m\n\u001b[1;32m      2\u001b[0m \n\u001b[1;32m      3\u001b[0m \u001b[39m# Pensando em que para acharmos o x na equacao abaixo isolamos o x. \u001b[39;00m\n\u001b[1;32m      4\u001b[0m \u001b[39m# 2.x = 4\u001b[39;00m\n\u001b[0;32m----> 6\u001b[0m x3\u001b[39m/\u001b[39;49mx5\n\u001b[1;32m      8\u001b[0m \u001b[39m# Pensando na divisao, considere:\u001b[39;00m\n\u001b[1;32m      9\u001b[0m \u001b[39m# A . X = Y --> Para obtermos o x, poreríamos isalar o X? \u001b[39;00m\n\u001b[1;32m     10\u001b[0m \u001b[39m# Sim. X teria que ser uma matriz - é um vetor solucao com varios n;umeros\u001b[39;00m\n",
      "\u001b[0;31mValueError\u001b[0m: operands could not be broadcast together with shapes (3,1) (2,1) "
     ]
    }
   ],
   "source": [
    "# DIVISAO E EQUACAO FUNDAMENTAL DA ALGEBRA LINEAR \n",
    "\n",
    "# Pensando em que para acharmos o x na equacao abaixo isolamos o x. \n",
    "# 2.x = 4\n",
    "\n",
    "x3/x5 # ERRO POIS NAO TEM A MESMA DIMENSAO\n",
    "\n",
    "# MAS Pensando na divisao, considere:\n",
    "\n",
    "\n",
    "# A . X = Y --> Para obtermos o x, poreríamos isalar o X? (# A . B != B . A (esse ponto não é a multiplicacao tradicional que vem com asterisco. Esse np.dot é produto interno de matrizes - um vetor x vetor = vetor ))\n",
    "# Sim. X teria que ser uma matriz - é um vetor solucao com varios n;umeros\n",
    "\n",
    "# ISSO AQUI É O CORACAO DA ALGEBRA. O motivo pela qual a algebra linear existe é essa equação\n",
    "# Conhcemos o arcabouço teorico de algebra linear por causa dessa equação. Isso dará base para resolver problemas de ml \n",
    "# Isso deu base para resolver problema de equações que evoluiram no tempo - sistema chamado de processos markovianos ou cadeias de markov (analises de recorrencia como cadeias de markov e método dos mínimos quafrados)\n",
    "\n",
    "# NOME - EQUACAO FUNDAMENTAL DA ALGEBRA LINEAR #################################\n"
   ]
  },
  {
   "cell_type": "code",
   "execution_count": null,
   "metadata": {},
   "outputs": [],
   "source": [
    "# A.X = Y ----> NÃO QUER DIZER QUE PARA QUE POSSAMOS ENCONTRAR O VETOR X, EU CONSIGA DIVIDIR Y POR A. \n",
    "\n",
    "# e aqui entra outro conceito, relacionado a matrizes especiais!!!\n",
    "\n",
    "# pense:\n",
    "# Na propriedade dos escalares conseguimos trocar o produto sem alterar o resultado: \n",
    "#1*0 = 0\n",
    "#0*1 = 0 \n",
    "\n",
    "# Já se fizermos 1/0, teremos um erro. \n",
    "# Dessa forma, o 0 para os escalares, NA SOMA E NA SUBTRAÇÃO, é o que chamamos de elemento neutro, pois nao afeta o resultado. \n",
    "# No caso da multiplicação e divisão o ELEMENTO NEUTRO É O 1"
   ]
  },
  {
   "cell_type": "code",
   "execution_count": 5,
   "metadata": {},
   "outputs": [
    {
     "name": "stdout",
     "output_type": "stream",
     "text": [
      "[[0. 0. 0.]\n",
      " [0. 0. 0.]\n",
      " [0. 0. 0.]]\n",
      "\n",
      "[[1. 1. 1.]\n",
      " [1. 1. 1.]\n",
      " [1. 1. 1.]]\n"
     ]
    }
   ],
   "source": [
    "# Ainda pensando em multiplicação - PENSE EM UMA MATRIZ 3 X 3 \n",
    "\n",
    "zeros = np.zeros((3,3))\n",
    "ones = np.ones((3,3))\n",
    "print(zeros)\n",
    "print()\n",
    "print(ones)\n",
    "\n",
    "# A matriz só de UM é um elemento neutro no mundo das matrizes??? \n",
    "# NÃO, POIS VAI FAZER COMBINAÇÃO LINEAR E NÃO SERÁ NEUTRO\n",
    "\n",
    "# pra ele preservar e ser realmente neutro, o um tem que estar em alguns locais estratégicos\n",
    "#o indice da linha é o indice da coluna - quando definimos matriz temos:"
   ]
  },
  {
   "cell_type": "markdown",
   "metadata": {},
   "source": [
    "$$A = pmatrix{a_{00} & a_{01} & a_{02} \\\\ a_{10} & a_{11} & a_{12} \\\\ a_{20} & a_{21} & a_{22}}$$"
   ]
  },
  {
   "cell_type": "code",
   "execution_count": 6,
   "metadata": {},
   "outputs": [],
   "source": [
    "# MAS se eu quisesse multiplicar a matriz x4 POR um e quisesse preservar \n",
    "# quisesse PRESERVAR essa matriz, eu não poderia multiplicar por UMA MATRIZ DE 1 (sim, pelo escalar 1, preservaria, porém temos que falar de matriz identidade)\n",
    "# pois aí eu teria uma combinação linear \n",
    "# pois eu teria multiplicacao da linha um com coluna 1 para termos o primiero termo (1 x 1 = 1 e 1+1+1+ = 3 e o resultado já mudou)\n",
    "# se eu conseguisse preservar os elementos centrais da matriz (que no caso da matriz x4 é 1 2 3 ), dará certo, pois o \n",
    "# resto dos elementos vai zerar e na hora de multiplicar apenas 1 termo vai importar e outros vao zerar. \n",
    "# TENHO que preservar o 1 2 e 3 , e isso significa que a minha matriz de UM não precisa ter um em todo o lugar, mas NA DIAGONAL princial\n",
    "# Então usamos a MATRIZ IDENTIDADE\n",
    "\n",
    "id = np.eye(3)\n",
    "# Se multiplicarmos o id*x4 teremos uma matriz com  1 2 3 (diagonal) e 0 nos demais locais\n",
    "# ATENCÃO\n",
    "# O que é interessa é que usamos essa um tipo de problema especifico\n",
    "# Então estamos quase chegano no terorema fundamental da algebra - "
   ]
  },
  {
   "cell_type": "code",
   "execution_count": null,
   "metadata": {},
   "outputs": [],
   "source": [
    "# video 7/14\n",
    "\n",
    "# NUMEROS INVERSOS\n",
    "# PORQUE QUE O 1 É IMPORTANTE, elemento neutro e etc? Aqui entra um outro passo\n",
    "# Número inverso não é ser positivo ou negativo\n",
    "# se um número é inverso do outro, um número vezes seu inverso tem que dar 1 (propriedade)\n",
    "# EX: quem é o inverso de 1\n",
    "# Para isso, temos que \n",
    "\n",
    "# um numero que multiplica seu inverso tem que dar 1 \n",
    "# abaixo x.x elevado na menos um (quer dizer, inverso) tem que dar um\n",
    "# O UM é o elemento neutro // elemento identidade // matriz identidade , np.eye\n",
    "\n",
    "#supondo que x seja uma matriz, e 1 seja uma matriz identidade"
   ]
  },
  {
   "cell_type": "markdown",
   "metadata": {},
   "source": [
    "$$x . x^{-1} = 1$$\n",
    "\n",
    "---\n",
    "\n",
    "$$A . A^{-1} = 1$$ \n",
    "\n",
    "---\n",
    "Eq. Fundamental da Álgebra \n",
    "$$A. X = Y$$\n",
    "\n",
    "Uma triz quadrada . uma matriz icognita = matriz y "
   ]
  },
  {
   "cell_type": "code",
   "execution_count": null,
   "metadata": {},
   "outputs": [],
   "source": [
    "# Esse A-1 vai ter um nome (se escalares, vetores e matrizes tudo é um tensor, entao a propriedade deve se estender, também para os numeros inversos)\n",
    "\n",
    "# entao a propriedade do numero inverso tem que estender para matrizes, entao como é o nome dessa matriz A-1 == MATRIZ INVERSA\n",
    "\n",
    "# OU SEJA, uma matriz vezes a sua inversa dará a matriz identidade e essa premissa ajuda no teprema fundamental da algebra. \n",
    "\n",
    "# se eu consigo definir uma matriz identidade, entao a matriz id vezes uma matriz, nao deveria adulterar o seu resultado (desde que o que eu multiplico de um lado, eu possa multiplicar do outro)\n",
    "\n",
    "#desde que: "
   ]
  },
  {
   "cell_type": "markdown",
   "metadata": {},
   "source": [
    "$$A.aˆ{-1}.X = Aˆ{-1}.Y$$\n",
    "Se eu considderar que $$ A.Aˆ{-1}$$ é a matriz identidade, por consequencia x = a elevado a menos 1 . y:\n",
    "\n",
    "$$X = Aˆ{-1}.Y$$\n",
    "E essa é a solução para a equação da algebra fundamental (se A for quadrada)\n",
    "A equação 1 e 3 fundamentam sistemas lineares \n",
    "\n",
    "Quando temos matrizes não quadradas, não usamos matriz inversa para resolver. Usamos pseudo matriz inversa. "
   ]
  },
  {
   "cell_type": "code",
   "execution_count": 2,
   "metadata": {},
   "outputs": [],
   "source": [
    "# Video 8\n",
    "# Quando A não é quadrada, n consigo falar q tem inversa. \n",
    "# Usamos matriz pseudo inversa \n",
    "# A elevado a T (T é a matriz transposta)\n",
    "# Quando não temos uma matriz quadrada, multiplicamos ela pela transposta e achamos uma matriz quadrada\n",
    "# Fazemos uma correcao linear, com a transposta achando um valor muito proximo do que seria A \n",
    "\n",
    "# É a equação abaixo que resolve, por ex, problemas como metodo dos minimos quadrados, que resolve problemas de interpolação de retas\n",
    "# PORQUE e como sabemos dar o import certo? \n",
    "\n",
    "# Porque temos que plotar um reta? Fazemos isso, quando? Que tipo de problemas envolvem plotar uma reta ? em problemas cuja solucao, \n",
    "# envolvem uma EQUACAO DO PRIMEIRO GRAU \n",
    "# Só que MUITAS das vezes uma REGRESSÃO não resolve o problema\n",
    "\n",
    "# é o algoritmo mais simples no aprendizado de máquina. O que é o aprendizado de máquina na matematica?\n",
    "# Com base nessa distribuição de pontos. Não é que o algoritmo aprendeu. Com base na distruibuição de pontos que foi fornecido, ele segue \n",
    "# Um padrão matemático. Nesse caso, forçamos a ser uma reta. Não falamos, aaaahhh, ache a função livremente. Não, eu pressupuz que o meu problema \n",
    "# como solução é uma reta - e por isso, usei aquele método.\n",
    "# Mas se eu palasse ajuste usando um polinomio do segundo grau - a função mudaria ( A MATRIZ A usada, mudaria e por conseeguencia toda a formulacao.\n",
    "# \n",
    "# Entao temos que saber como atuar / o aprendizado de máquina (usamos essa palavra aprendizado, fazemos uma correlação com IA, mas na verdade\n",
    "# o do modelo idetnifica padroes e traz uma funcao que melhor descreve o padrao (NÃO É BEM A QUE MELHOR DESCREVE. Corrigindo, TRAZ uma função ue melhor se aproxima do ideal)\n",
    "# Então, aqui estamos pressupondo que é linear !!! então estudamos uma frequencia de distribução de pontos que é muitooo caotica, imagina! \n",
    "# Aqui usamos uma funcao linear... nem analizamos coisas mais profundas, como por ex, É UMA DISTRIBUIÇÃO NORMAL/gaussiana? ela preserva media, mediana e moda?\n",
    "# sendo a mesma coisa que uma dis. normal? \n",
    "# ou será que tenho que modelar com um tipo de distribuição diferente bnomila, poisson, entre outras, que trarão resultados diferentes. \n",
    "# Nesse contexto, podemos dizer qu eé a estatistica que dá corpo pra a algebra linear\n",
    "\n",
    "# Pensando em estatística devemos pensar ... será que temos alguns pontos que estão atrapalhando na minha previsão (outlieers?) ou será que esses pontos estão fora, mas são informativos?\n",
    "# preciso entender se meus dados estão próximos ou distantes do que eu chamo de desvio paddrao (que é a medida de dispersão em torno da média) \n",
    "# Ou se a minha distribuição probabilistica vai fazer com que eu tenha que usar argumentos um pouco MENOS conservadores, como métodos de monte carlo\n",
    "# de probabilidade estatista, pois não conhecemos uma série de parâmetros do nosso problema e etc!! ANOTAR \n"
   ]
  },
  {
   "cell_type": "markdown",
   "metadata": {},
   "source": [
    "Matriz pseudo inversa \n",
    "\n",
    "$$X = (A^{T}A)^{-1}A^{T}Y$$\n"
   ]
  },
  {
   "cell_type": "markdown",
   "metadata": {},
   "source": []
  },
  {
   "cell_type": "code",
   "execution_count": null,
   "metadata": {},
   "outputs": [],
   "source": [
    "# VIDEO 9 DE Estatatistica e algenil em python \n",
    "\n",
    "# Quando estamos modelando machine learning muitas vezes esquecemos que estamos trabalhando com a teoria dos conjuntos. \n",
    "# Quando vamos prever a temperatura, por ex, temos a umidade do ar, pressar e temp. Teremos infinitas combinacoes dessas variaves (existe uma escala de umidade, escala de temp e etc). \n",
    "# Se fizermos uma combinação teriamos muitoos valores, podemos comentar algo interessante aqui que o humano nao lida bem. \n",
    "# que é o conceito de variavel discreta e continua na estatistica. Por exemplo, quando usamos uma contagem (inteira), mas temperaturas podem ser float \n",
    "# entao a base da estatistica esta em conceitos simples... que sao os conceitos basais, \n",
    "\n",
    "# POR EXEMPLO esstamos prevendo preços DE venda, no momento de fazer feature engeneering para valores nulos.\n",
    "# Será que faz sentido preencher o que está nulo com a média de venda - será que a média é um valor interessante para trabalhar?\n",
    "# Tudo depende SE OS DADOS SEguem uma dist normal (aquela regra que temos la com valores centrais até 68,5%, depois disso vai p 95 alguma coisa e depois para 99.8 ai temos intervalos do z scores \n",
    "# talvez faça sentido.)\n",
    "# Mas ai se tiver um outlier \n",
    "# Por exemplo estamos vendendo monitores a media depreco é 100... mas tem um monitor que é 300. o que isso vai fazer? \n",
    "# já da pra responder que ele vai alterar o comportamento alterando a media (dependendo do valor se estamos trabalhando com positivos ou negativos)\n",
    "# AH qual seria a alternativa?? temos a mediana... a depender tb do tipo de dado que temos ali \n",
    "\n",
    "#tudo nasce d estatistica e incerteza "
   ]
  }
 ],
 "metadata": {
  "kernelspec": {
   "display_name": "Python 3",
   "language": "python",
   "name": "python3"
  },
  "language_info": {
   "codemirror_mode": {
    "name": "ipython",
    "version": 3
   },
   "file_extension": ".py",
   "mimetype": "text/x-python",
   "name": "python",
   "nbconvert_exporter": "python",
   "pygments_lexer": "ipython3",
   "version": "3.10.12"
  },
  "orig_nbformat": 4
 },
 "nbformat": 4,
 "nbformat_minor": 2
}
