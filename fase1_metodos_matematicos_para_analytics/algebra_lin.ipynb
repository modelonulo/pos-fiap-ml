{
 "cells": [
  {
   "cell_type": "code",
   "execution_count": 5,
   "metadata": {},
   "outputs": [],
   "source": [
    "import numpy as np\n",
    "import pandas as pd"
   ]
  },
  {
   "cell_type": "code",
   "execution_count": 4,
   "metadata": {},
   "outputs": [
    {
     "name": "stdout",
     "output_type": "stream",
     "text": [
      "2\n",
      "[1 2 3]\n",
      "[[1]\n",
      " [2]\n",
      " [3]]\n",
      "[[1 2 3]\n",
      " [1 2 3]\n",
      " [1 2 3]]\n"
     ]
    }
   ],
   "source": [
    "# escalar, vetor e matriz\n",
    "\n",
    "#escalar - número (tensor de ordem 0)\n",
    "\n",
    "x = 2 #escalar \n",
    "print(x)\n",
    "\n",
    "x2 = np.array([1, 2, 3]) #vetor com 3 elementos escalares\n",
    "print(x2)\n",
    "\n",
    "x3 = np.array([[1], [2], [3]]) #matriz com 3 elementos vetores com elementos escalares\n",
    "print(x3)\n",
    "\n",
    "x4 = np.array([[1,2,3], [1,2,3], [1,2,3]]) #matriz tradicional quadrada\n",
    "print(x4)\n"
   ]
  },
  {
   "cell_type": "code",
   "execution_count": 10,
   "metadata": {},
   "outputs": [
    {
     "name": "stdout",
     "output_type": "stream",
     "text": [
      "<class 'pandas.core.frame.DataFrame'>\n"
     ]
    }
   ],
   "source": [
    "#normalmente usamos lista para muittas coisas, porém ele sugere usarmos mais dicionário \n",
    "\n",
    "#o que é o df? 'class 'pandas.core.frame.DataFrame', o df é uma tabela que é um df colunar que uma matriz, com vetores colunar \n",
    "\n",
    "lista = [1, 2, 3, 4, 5]\n",
    "\n",
    "#df = pd.DataFrame(lista)\n",
    "#df\n",
    "\n",
    "df = pd.DataFrame({'coluna1': lista})\n",
    "df\n",
    "print(type(df))"
   ]
  },
  {
   "cell_type": "code",
   "execution_count": null,
   "metadata": {},
   "outputs": [],
   "source": []
  }
 ],
 "metadata": {
  "kernelspec": {
   "display_name": "Python 3",
   "language": "python",
   "name": "python3"
  },
  "language_info": {
   "codemirror_mode": {
    "name": "ipython",
    "version": 3
   },
   "file_extension": ".py",
   "mimetype": "text/x-python",
   "name": "python",
   "nbconvert_exporter": "python",
   "pygments_lexer": "ipython3",
   "version": "3.10.12"
  },
  "orig_nbformat": 4
 },
 "nbformat": 4,
 "nbformat_minor": 2
}
