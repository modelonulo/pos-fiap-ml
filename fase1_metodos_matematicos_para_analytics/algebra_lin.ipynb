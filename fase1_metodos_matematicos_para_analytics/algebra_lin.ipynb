{
 "cells": [
  {
   "cell_type": "code",
   "execution_count": 5,
   "metadata": {},
   "outputs": [],
   "source": [
    "import numpy as np\n",
    "import pandas as pd"
   ]
  },
  {
   "cell_type": "code",
   "execution_count": 4,
   "metadata": {},
   "outputs": [
    {
     "name": "stdout",
     "output_type": "stream",
     "text": [
      "2\n",
      "[1 2 3]\n",
      "[[1]\n",
      " [2]\n",
      " [3]]\n",
      "[[1 2 3]\n",
      " [1 2 3]\n",
      " [1 2 3]]\n"
     ]
    }
   ],
   "source": [
    "# escalar, vetor e matriz\n",
    "\n",
    "#escalar - número (tensor de ordem 0)\n",
    "\n",
    "x = 2 #escalar \n",
    "print(x)\n",
    "\n",
    "x2 = np.array([1, 2, 3]) #vetor com 3 elementos escalares\n",
    "print(x2)\n",
    "\n",
    "x3 = np.array([[1], [2], [3]]) #matriz com 3 elementos vetores com elementos escalares\n",
    "print(x3)\n",
    "\n",
    "x4 = np.array([[1,2,3], [1,2,3], [1,2,3]]) #matriz tradicional quadrada\n",
    "print(x4)\n"
   ]
  },
  {
   "cell_type": "code",
   "execution_count": 18,
   "metadata": {},
   "outputs": [
    {
     "name": "stdout",
     "output_type": "stream",
     "text": [
      "<class 'pandas.core.frame.DataFrame'>\n",
      "   coluna1\n",
      "0        1\n",
      "1        2\n",
      "2        3\n",
      "3        4\n",
      "4        5\n",
      "<class 'pandas.core.frame.DataFrame'>\n",
      "Mas se dermos o type na COLUNA de df2, veremos que é diferente do tipop do df e df2: <class 'pandas.core.series.Series'>\n",
      "   coluna1  coluna2\n",
      "0        1        1\n",
      "1        2        2\n",
      "2        3        3\n",
      "3        4        4\n",
      "4        5        5\n"
     ]
    }
   ],
   "source": [
    "#normalmente usamos lista para muittas coisas, porém ele sugere usarmos mais dicionário \n",
    "\n",
    "\n",
    "\n",
    "lista = [1, 2, 3, 4, 5]\n",
    "\n",
    "#df = pd.DataFrame(lista)\n",
    "#df\n",
    "\n",
    "df = pd.DataFrame({'coluna1': lista})\n",
    "df\n",
    "print(type(df))\n",
    "\n",
    "\n",
    "#o que é o df? 'class 'pandas.core.frame.DataFrame', o df é uma tabela que é um df colunar que uma matriz, com vetores colunar \n",
    "#pandas series == vetor \n",
    "#dataframe = matriz\n",
    "# LOGO, \n",
    "# AINDA PODERIAMOS criar esse df com:\n",
    "\n",
    "array = np.array([1, 2, 3, 4, 5])\n",
    "df = pd.DataFrame({'coluna1': array})\n",
    "print(df)\n",
    "\n",
    "# O pandas chama o vetor de SERIES\n",
    "\n",
    "#OBSERVACAO para o type da coluna do df2, veremos que é um panda core SERIRES/SERIES, diferernte de frame/frame como antes.\n",
    "#Porque, sabemos que a matriz é um conjunto de elementos vetores, então o df é uma matriz e cada coluna é um vetor E VETOR PRO PANDAS CHAMA SERIES.\n",
    "df2 = pd.DataFrame({'coluna1': lista, 'coluna2': lista})\n",
    "print(type(df2))\n",
    "print(f'Mas se dermos o type na COLUNA de df2, veremos que é diferente do tipop do df e df2: {type(df2.coluna2)}')\n",
    "\n",
    "print(df2)"
   ]
  },
  {
   "cell_type": "code",
   "execution_count": 20,
   "metadata": {},
   "outputs": [
    {
     "name": "stdout",
     "output_type": "stream",
     "text": [
      "[1]\n"
     ]
    }
   ],
   "source": [
    "# Para acessar os elementos:\n",
    "\n",
    "# Exemplo em listas: \n",
    "print(lista[:1])\n",
    "\n",
    "#No exemplo abaixo, "
   ]
  },
  {
   "cell_type": "code",
   "execution_count": 21,
   "metadata": {},
   "outputs": [
    {
     "name": "stdout",
     "output_type": "stream",
     "text": [
      "0.6666666666666666\n"
     ]
    }
   ],
   "source": [
    "#Video 5 \n",
    "# Operacoes com vetores. \n",
    "\n",
    "#Conseguimos fazer adicao, subtracao, log de vetores como conseguimos fazer com escalares? \n",
    "#Até o momento entendo a estrutura desses objetos. Mas vamos aprender as propriedades.\n",
    "\n",
    "print(2/3)\n",
    "# As propriedades que cercam os escalares devem ser preservadas. Pensemos que um escalar é um ponto, que nao posui dimensao. \n",
    "# Quando pensamos abrangentemente qualquer conceito matemático ele tem propriedades e axiomas (regras)\n",
    "# se um escalar tem propriedades, elas devem ser extendidas a sua evolução, mas cada um com sua regra específica. Podemos somar um número, mas somaremos uma matriz de uma forma difirente. \n",
    "\n",
    " "
   ]
  },
  {
   "cell_type": "code",
   "execution_count": 23,
   "metadata": {},
   "outputs": [
    {
     "name": "stdout",
     "output_type": "stream",
     "text": [
      "[1 2 3]\n",
      "\n",
      "[[1]\n",
      " [2]\n",
      " [3]]\n",
      "\n",
      "[[2 3 4]\n",
      " [3 4 5]\n",
      " [4 5 6]]\n"
     ]
    }
   ],
   "source": [
    "\n",
    "\n",
    "print(x2)\n",
    "print()\n",
    "print(x3)\n",
    "print()\n",
    "\n",
    "# Fez combinação linear = é um somatório de elementos multiplicados entre si. \n",
    "# OBS = Como o vetor X2 e a matriz x3 não tem a mesma estrutura (um contem 3 escalares linha e a outra é uma matriz coluna, \n",
    "# a soma foi feita através de uma combinação linear\n",
    "\n",
    "# Fez uma distributiva\n",
    "# [1+1 = 2], [1+2 = 3], [1+3=4]\n",
    "# [2+1 = 3], [2+2 = 4], [2+3= 5\n",
    "# [3+1 = 4], [3+2 = 5], [3+3 = 6]\n",
    "print(x2+x3)\n",
    "\n",
    "# JÁ quando somamos duas matrizes 3x3 dobramos os valores, pois ele entende que a coluna 1 da primeira soma com a col 1 da segunda matriz e assim por diante"
   ]
  },
  {
   "cell_type": "code",
   "execution_count": 26,
   "metadata": {},
   "outputs": [
    {
     "data": {
      "text/plain": [
       "array([[1, 2, 3],\n",
       "       [1, 2, 3],\n",
       "       [1, 2, 3]])"
      ]
     },
     "execution_count": 26,
     "metadata": {},
     "output_type": "execute_result"
    }
   ],
   "source": [
    "x4"
   ]
  },
  {
   "cell_type": "code",
   "execution_count": 27,
   "metadata": {},
   "outputs": [
    {
     "name": "stdout",
     "output_type": "stream",
     "text": [
      "[[1 2 3]\n",
      " [1 2 3]\n",
      " [1 2 3]]\n",
      "[[1]\n",
      " [2]]\n"
     ]
    },
    {
     "ename": "ValueError",
     "evalue": "operands could not be broadcast together with shapes (2,1) (3,3) ",
     "output_type": "error",
     "traceback": [
      "\u001b[0;31m---------------------------------------------------------------------------\u001b[0m",
      "\u001b[0;31mValueError\u001b[0m                                Traceback (most recent call last)",
      "Cell \u001b[0;32mIn[27], line 6\u001b[0m\n\u001b[1;32m      4\u001b[0m x5 \u001b[39m=\u001b[39m np\u001b[39m.\u001b[39marray([[\u001b[39m1\u001b[39m], [\u001b[39m2\u001b[39m]])\n\u001b[1;32m      5\u001b[0m \u001b[39mprint\u001b[39m(x5)\n\u001b[0;32m----> 6\u001b[0m x5\u001b[39m+\u001b[39;49mx4\n",
      "\u001b[0;31mValueError\u001b[0m: operands could not be broadcast together with shapes (2,1) (3,3) "
     ]
    }
   ],
   "source": [
    "# PENDENTE - PESQUISAR\n",
    "\n",
    "# Operadores nao podem ser agrupados, pois um tem dimensao (2,1) e outro (3,3)\n",
    "\n",
    "# Nesse caso temos um erro, pois aqui não temos a mesma quantidade de linhas para os dois arrays. A natureza se preserva quando temos o mesmo numero de linhas para colunas e etc\n",
    "\n",
    "# A combinação linear entra a dica? o que vale para soma, vale ara - , combin linear pode ser subtracao. \n",
    "\n",
    "# Todo somatório pode se tornar um \"somatório negativo quando multiplicamos por -1\"\n",
    "\n",
    "print(x4)\n",
    "\n",
    "x5 = np.array([[1], [2]])\n",
    "print(x5)\n",
    "x5+x4"
   ]
  },
  {
   "cell_type": "code",
   "execution_count": null,
   "metadata": {},
   "outputs": [],
   "source": []
  }
 ],
 "metadata": {
  "kernelspec": {
   "display_name": "Python 3",
   "language": "python",
   "name": "python3"
  },
  "language_info": {
   "codemirror_mode": {
    "name": "ipython",
    "version": 3
   },
   "file_extension": ".py",
   "mimetype": "text/x-python",
   "name": "python",
   "nbconvert_exporter": "python",
   "pygments_lexer": "ipython3",
   "version": "3.10.12"
  },
  "orig_nbformat": 4
 },
 "nbformat": 4,
 "nbformat_minor": 2
}
